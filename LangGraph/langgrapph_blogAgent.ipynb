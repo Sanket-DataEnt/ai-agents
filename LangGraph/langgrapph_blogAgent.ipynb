{
 "cells": [
  {
   "cell_type": "code",
   "execution_count": 1,
   "metadata": {},
   "outputs": [],
   "source": [
    "import os\n",
    "from dotenv import load_dotenv\n",
    "load_dotenv()\n",
    "\n",
    "os.environ[\"GROQ_API_KEY\"]=os.getenv(\"GROQ_API_KEY\")\n",
    "os.environ[\"OPENAI_API_KEY\"]=os.getenv(\"OPENAI_API_KEY\")"
   ]
  },
  {
   "cell_type": "code",
   "execution_count": null,
   "metadata": {},
   "outputs": [],
   "source": [
    "# START (Question asked : Machine Learning)-> TITLE CREATOR (Take the question and generate the title) -> CONTENT (Take the Title and Generate the Content)-> END (Display)\n",
    "\n",
    "from langchain_core.tools import tool\n",
    "from langgraph.graph import MessagesState\n",
    "from typing_extensions import TypedDict\n",
    "from langchain_core.messages import AnyMessage\n",
    "from typing import Annotated\n",
    "from langgraph.graph.message import add_messages"
   ]
  },
  {
   "cell_type": "code",
   "execution_count": null,
   "metadata": {},
   "outputs": [],
   "source": [
    "from langchain_openai import ChatOpenAI\n",
    "llm=ChatOpenAI(model=\"gpt-4o-mini\")"
   ]
  },
  {
   "cell_type": "code",
   "execution_count": 8,
   "metadata": {},
   "outputs": [],
   "source": [
    "# This will be a tool\n",
    "def add(a: int, b: int) -> int:\n",
    "    \"\"\"Adds a and b.\n",
    "\n",
    "    Args:\n",
    "        a: first int\n",
    "        b: second int\n",
    "    \"\"\"\n",
    "    return a + b"
   ]
  },
  {
   "cell_type": "code",
   "execution_count": 9,
   "metadata": {},
   "outputs": [],
   "source": [
    "from langchain_openai import ChatOpenAI\n",
    "tools=[add]\n",
    "\n",
    "llm=ChatOpenAI(model=\"gpt-4o\")\n",
    "llm_with_tools=llm.bind_tools(tools,parallel_tool_calls=False)\n"
   ]
  },
  {
   "cell_type": "code",
   "execution_count": null,
   "metadata": {},
   "outputs": [],
   "source": [
    "from langchain_core.messages import HumanMessage, SystemMessage\n",
    "\n",
    "## Title Assistant\n",
    "system_message_title = SystemMessage(\n",
    "    content=(\n",
    "        \"You are an intelligent blog title generator. Your task is to create catchy, engaging, \"\n",
    "        \"and relevant single title based on the subject or text provided to you. Ensure that the titles \"\n",
    "        \"are concise, informative, and tailored to attract readers' attention. Aim for creativity \"\n",
    "        \"while maintaining clarity and relevance to the topic at hand.\"\n",
    "    )\n",
    ")\n",
    "def title_assistant(state:MessagesState):\n",
    "    return {\"messages\":[llm_with_tools.invoke([system_message_title] + state[\"messages\"])]}\n",
    "\n",
    "## Blog Content Assistant\n",
    "system_message_content = SystemMessage(\n",
    "    content=(\n",
    "        \"You are a blog content generator. Your task is to create informative, engaging, and \"\n",
    "        \"well-structured content based on the title provided to you. Ensure that the content is \"\n",
    "        \"relevant, coherent, and tailored to the target audience. Aim for clarity, depth, and \"\n",
    "        \"engagement while maintaining a high level of quality and accuracy.\"\n",
    "    )\n",
    ")\n",
    "def content_assistant(state:MessagesState):\n",
    "    return {\"messages\":[llm_with_tools.invoke([system_message_content] + state[\"messages\"])]}"
   ]
  },
  {
   "cell_type": "code",
   "execution_count": 12,
   "metadata": {},
   "outputs": [
    {
     "data": {
      "image/png": "[encoded data removed]",
      "text/plain": [
       "<IPython.core.display.Image object>"
      ]
     },
     "metadata": {},
     "output_type": "display_data"
    }
   ],
   "source": [
    "from langgraph.graph import START, StateGraph\n",
    "from langgraph.prebuilt import tools_condition\n",
    "from langgraph.prebuilt import ToolNode\n",
    "from IPython.display import Image, display\n",
    "\n",
    "builder=StateGraph(MessagesState)\n",
    "\n",
    "# Define the nodes\n",
    "builder.add_node(\"title_assistant\", title_assistant)\n",
    "builder.add_node(\"content_assistant\", content_assistant)\n",
    "builder.add_node(\"tools\",ToolNode(tools))\n",
    "\n",
    "# Define the edges\n",
    "builder.add_edge(START, \"title_assistant\")\n",
    "builder.add_edge(\"title_assistant\", \"content_assistant\")\n",
    "builder.add_conditional_edges(\n",
    "    \"content_assistant\",\n",
    "    # If the latest message (result) from content_assistant is a tool call -> tools_condition routes to tools\n",
    "    # If the latest message (result) from content_assistant is a not a tool call -> tools_condition routes to END\n",
    "    tools_condition,\n",
    ")\n",
    "builder.add_edge(\"tools\",\"content_assistant\")\n",
    "\n",
    "\n",
    "\n",
    "react_graph=builder.compile()\n",
    "\n",
    "# Show\n",
    "display(Image(react_graph.get_graph().draw_mermaid_png()))"
   ]
  },
  {
   "cell_type": "code",
   "execution_count": 16,
   "metadata": {},
   "outputs": [],
   "source": [
    "messages = [HumanMessage(content=\"Generate a blog for AI Agents\")]\n",
    "messages = react_graph.invoke({\"messages\": messages})"
   ]
  },
  {
   "cell_type": "code",
   "execution_count": 17,
   "metadata": {},
   "outputs": [
    {
     "name": "stdout",
     "output_type": "stream",
     "text": [
      "================================\u001b[1m Human Message \u001b[0m=================================\n",
      "\n",
      "Generate a blog for AI Agents\n",
      "==================================\u001b[1m Ai Message \u001b[0m==================================\n",
      "\n",
      "Sure! Here are some catchy titles for a blog about AI Agents:\n",
      "\n",
      "1. \"Beyond Bots: The Rise of Intelligent AI Agents\"\n",
      "2. \"AI Agents: Revolutionizing How We Live and Work\"\n",
      "3. \"From Science Fiction to Reality: The World of AI Agents\"\n",
      "4. \"Unlocking the Potential of AI Agents: What You Need to Know\"\n",
      "5. \"AI Agents in Action: Transforming Industries and Everyday Life\"\n",
      "6. \"The Future is Here: How AI Agents are Changing the Game\"\n",
      "7. \"Inside the Mind of AI Agents: Technology, Ethics, and Opportunities\"\n",
      "8. \"AI Agents and the Promise of a Smarter Tomorrow\"\n",
      "9. \"Personal Assistants to Complex Operatives: The Evolution of AI Agents\"\n",
      "10. \"How AI Agents are Redefining Human-Machine Interaction\"\n",
      "==================================\u001b[1m Ai Message \u001b[0m==================================\n",
      "\n",
      "# Beyond Bots: The Rise of Intelligent AI Agents\n",
      "\n",
      "In recent years, the technology landscape has been revolutionized by the rapid development and adoption of Artificial Intelligence (AI). Among the most intriguing advancements is the emergence of AI agents, which are transforming how we interact with technology and reshaping numerous industries. But what exactly are AI agents, and why are they garnering such attention?\n",
      "\n",
      "## Understanding AI Agents\n",
      "\n",
      "An AI agent is a sophisticated software entity capable of making decisions, performing tasks, and learning from environments to achieve specific goals. Unlike traditional software that follows pre-set instructions, AI agents can analyze data, adapt to new inputs, and even autonomously interact with users or other systems. Their intelligence stems from complex algorithms that encompass machine learning, natural language processing, and computer vision.\n",
      "\n",
      "Imagine an AI agent as a digital assistant on steroids. If you've interacted with Siri, Alexa, or Google Assistant, you've had a glimpse of what simpler forms of AI agents can do. However, modern AI agents can go far beyond managing calendars or setting reminders; they're capable of handling complex tasks such as medical diagnostics, financial analysis, and customer support.\n",
      "\n",
      "## Transformative Applications Across Industries\n",
      "\n",
      "AI agents have found applications across a breadth of industries, each showcasing the potential to optimize processes and improve outcomes:\n",
      "\n",
      "### 1. Healthcare\n",
      "\n",
      "In healthcare, AI agents are invaluable. They support professionals by analyzing medical data to assist in diagnoses, predicting patient outcomes, and personalizing treatment plans. For example, AI agents can swiftly examine radiological images to identify early signs of diseases, thus potentially saving lives by prompting early intervention.\n",
      "\n",
      "### 2. Finance\n",
      "\n",
      "The finance sector is also reaping significant benefits from AI agents. They automate trading decisions, assess risks, detect fraud, and offer personalized financial advice. This automation not only speeds up processes but also reduces human error, leading to more accurate and efficient financial management.\n",
      "\n",
      "### 3. Customer Service\n",
      "\n",
      "In customer service, AI agents act as digital concierges, resolving queries, and providing support without human intervention. They operate 24/7, ensuring that customer satisfaction is maintained at all times. By taking on repetitive tasks, they allow human agents to focus on more complex issues that require a personal touch.\n",
      "\n",
      "### 4. Education\n",
      "\n",
      "Educational platforms leverage AI agents to tailor the learning experience. By analyzing student performance, AI agents can identify learning gaps and provide customized resources to support each learner's journey, ensuring a more effective educational process.\n",
      "\n",
      "## The Ethical Dimension\n",
      "\n",
      "While AI agents bring considerable benefits, they also introduce challenges, particularly in ethical considerations. Concerns about data privacy, algorithmic bias, and job displacement need to be carefully managed. It's crucial for developers and policymakers to create transparent, fair, and inclusive AI systems.\n",
      "\n",
      "## The Road Ahead: A Smarter Tomorrow\n",
      "\n",
      "As AI technology continues to evolve, the capabilities of AI agents will undoubtedly expand. We can expect them to become more intuitive, reliable, and seamlessly integrated into our daily lives. A future where AI agents collaborate with humans to drive innovation and efficiency is not only possible but increasingly plausible.\n",
      "\n",
      "In conclusion, the rise of intelligent AI agents signifies a significant leap toward a digital age where technology acts as an active and sophisticated partner in both personal and professional realms. As we navigate the intricacies of these advancements, it is imperative to harness their potential with responsibility and vision, paving the way for a smarter, more connected world.\n"
     ]
    }
   ],
   "source": [
    "for m in messages['messages']:\n",
    "    m.pretty_print()"
   ]
  },
  {
   "cell_type": "code",
   "execution_count": null,
   "metadata": {},
   "outputs": [],
   "source": []
  }
 ],
 "metadata": {
  "kernelspec": {
   "display_name": "ai-agents",
   "language": "python",
   "name": "python3"
  },
  "language_info": {
   "codemirror_mode": {
    "name": "ipython",
    "version": 3
   },
   "file_extension": ".py",
   "mimetype": "text/x-python",
   "name": "python",
   "nbconvert_exporter": "python",
   "pygments_lexer": "ipython3",
   "version": "3.12.8"
  }
 },
 "nbformat": 4,
 "nbformat_minor": 2
}
