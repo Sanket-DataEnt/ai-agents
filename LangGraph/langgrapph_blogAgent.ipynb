{
 "cells": [
  {
   "cell_type": "code",
   "execution_count": 1,
   "metadata": {},
   "outputs": [],
   "source": [
    "import os\n",
    "from dotenv import load_dotenv\n",
    "load_dotenv()\n",
    "\n",
    "os.environ[\"GROQ_API_KEY\"]=os.getenv(\"GROQ_API_KEY\")\n",
    "os.environ[\"OPENAI_API_KEY\"]=os.getenv(\"OPENAI_API_KEY\")"
   ]
  },
  {
   "cell_type": "code",
   "execution_count": 2,
   "metadata": {},
   "outputs": [],
   "source": [
    "# START (Question asked : Machine Learning)-> TITLE CREATOR (Take the question and generate the title) -> CONTENT (Take the Title and Generate the Content)-> END (Display)\n",
    "\n",
    "from langchain_core.tools import tool\n",
    "from langgraph.graph import MessagesState\n",
    "from typing_extensions import TypedDict\n",
    "from langchain_core.messages import AnyMessage\n",
    "from typing import Annotated\n",
    "from langgraph.graph.message import add_messages"
   ]
  },
  {
   "cell_type": "code",
   "execution_count": 3,
   "metadata": {},
   "outputs": [],
   "source": [
    "from langchain_openai import ChatOpenAI\n",
    "llm=ChatOpenAI(model=\"gpt-4o-mini\")"
   ]
  },
  {
   "cell_type": "code",
   "execution_count": null,
   "metadata": {},
   "outputs": [],
   "source": [
    "# # This will be a tool\n",
    "# def add(a: int, b: int) -> int:\n",
    "#     \"\"\"Adds a and b.\n",
    "\n",
    "#     Args:\n",
    "#         a: first int\n",
    "#         b: second int\n",
    "#     \"\"\"\n",
    "#     return a + b"
   ]
  },
  {
   "cell_type": "code",
   "execution_count": null,
   "metadata": {},
   "outputs": [],
   "source": [
    "from langchain_openai import ChatOpenAI\n",
    "# tools=[add]\n",
    "\n",
    "llm=ChatOpenAI(model=\"gpt-4o\")\n",
    "# llm_with_tools=llm.bind_tools(tools,parallel_tool_calls=False)\n",
    "\n"
   ]
  },
  {
   "cell_type": "code",
   "execution_count": 4,
   "metadata": {},
   "outputs": [],
   "source": [
    "from langchain_core.messages import HumanMessage, SystemMessage\n",
    "\n",
    "## Title Assistant\n",
    "system_message_title = SystemMessage(\n",
    "    content=(\n",
    "        \"You are an intelligent blog title generator. Your task is to create catchy, engaging, \"\n",
    "        \"and relevant single title based on the subject or text provided to you. Ensure that the titles \"\n",
    "        \"are concise, informative, and tailored to attract readers' attention. Aim for creativity \"\n",
    "        \"while maintaining clarity and relevance to the topic at hand.\"\n",
    "    )\n",
    ")\n",
    "def title_assistant(state:MessagesState):\n",
    "    return {\"messages\":[llm.invoke([system_message_title] + state[\"messages\"])]}\n",
    "\n",
    "## Blog Content Assistant\n",
    "system_message_content = SystemMessage(\n",
    "    content=(\n",
    "        \"You are a blog content generator. Your task is to create informative, engaging, and \"\n",
    "        \"well-structured content based on the title provided to you. Ensure that the content is \"\n",
    "        \"relevant, coherent, and tailored to the target audience. Aim for clarity, depth, and \"\n",
    "        \"engagement while maintaining a high level of quality and accuracy.\"\n",
    "    )\n",
    ")\n",
    "def content_assistant(state:MessagesState):\n",
    "    return {\"messages\":[llm.invoke([system_message_content] + state[\"messages\"])]}"
   ]
  },
  {
   "cell_type": "code",
   "execution_count": 5,
   "metadata": {},
   "outputs": [
    {
     "data": {
      "image/png": "[encoded data removed]",
      "text/plain": [
       "<IPython.core.display.Image object>"
      ]
     },
     "metadata": {},
     "output_type": "display_data"
    }
   ],
   "source": [
    "from langgraph.graph import START, StateGraph, END\n",
    "from langgraph.prebuilt import tools_condition\n",
    "from langgraph.prebuilt import ToolNode\n",
    "from IPython.display import Image, display\n",
    "\n",
    "builder=StateGraph(MessagesState)\n",
    "\n",
    "# Define the nodes\n",
    "builder.add_node(\"title_assistant\", title_assistant)\n",
    "builder.add_node(\"content_assistant\", content_assistant)\n",
    "# builder.add_node(\"tools\",ToolNode(tools))\n",
    "\n",
    "# Define the edges\n",
    "builder.add_edge(START, \"title_assistant\")\n",
    "builder.add_edge(\"title_assistant\", \"content_assistant\")\n",
    "# builder.add_conditional_edges(\n",
    "#     \"content_assistant\",\n",
    "#     # If the latest message (result) from content_assistant is a tool call -> tools_condition routes to tools\n",
    "#     # If the latest message (result) from content_assistant is a not a tool call -> tools_condition routes to END\n",
    "#     tools_condition,\n",
    "# )\n",
    "# builder.add_edge(\"tools\",\"content_assistant\")\n",
    "builder.add_edge(\"content_assistant\", END)\n",
    "\n",
    "\n",
    "\n",
    "react_graph=builder.compile()\n",
    "\n",
    "# Show\n",
    "display(Image(react_graph.get_graph().draw_mermaid_png()))"
   ]
  },
  {
   "cell_type": "code",
   "execution_count": 8,
   "metadata": {},
   "outputs": [
    {
     "name": "stdout",
     "output_type": "stream",
     "text": [
      "11.90680193901062\n"
     ]
    }
   ],
   "source": [
    "import time\n",
    "start_time = time.time()\n",
    "messages = [HumanMessage(content=\"Generate a blog for AI Agents\")]\n",
    "messages = react_graph.invoke({\"messages\": messages})\n",
    "print(time.time() - start_time)"
   ]
  },
  {
   "cell_type": "code",
   "execution_count": 9,
   "metadata": {},
   "outputs": [
    {
     "name": "stdout",
     "output_type": "stream",
     "text": [
      "================================\u001b[1m Human Message \u001b[0m=================================\n",
      "\n",
      "Generate a blog for AI Agents\n",
      "==================================\u001b[1m Ai Message \u001b[0m==================================\n",
      "\n",
      "\"Unleashing the Future: How AI Agents Are Transforming Our World\"\n",
      "==================================\u001b[1m Ai Message \u001b[0m==================================\n",
      "\n",
      "### Unleashing the Future: How AI Agents Are Transforming Our World\n",
      "\n",
      "In recent years, artificial intelligence (AI) has transitioned from a futuristic concept to a practical reality. Among the most groundbreaking developments in AI technology are AI agents, autonomous systems capable of performing tasks, making decisions, and interacting with human users. From personal assistants to complex problem solvers, AI agents have the potential to revolutionize various aspects of our lives. In this blog, we will explore what AI agents are, how they function, and the myriad ways they are transforming industries and everyday life.\n",
      "\n",
      "#### What Are AI Agents?\n",
      "\n",
      "AI agents are software or robotic programs that can take actions to achieve specific goals or perform tasks by processing information from their environment. These agents leverage machine learning, natural language processing, and other AI technologies to analyze data, learn from interactions, and improve their performance over time. They can be either reactive (responding to stimuli) or proactive (anticipating needs and taking actions preemptively), making them versatile tools in numerous applications.\n",
      "\n",
      "#### How Do AI Agents Work?\n",
      "\n",
      "At the heart of AI agents lies a combination of data processing and intelligent decision-making. Here are some key components that empower AI agents:\n",
      "\n",
      "1. **Data Acquisition**: AI agents gather real-time data from multiple sources, including sensors, user inputs, and external databases. This data forms the basis for their decision-making processes.\n",
      "\n",
      "2. **Learning Models**: Many AI agents employ machine learning models that allow them to learn patterns, relationships, and trends from historical data. These models are refined over time, improving the agent’s performance in specific tasks.\n",
      "\n",
      "3. **Decision-Making Algorithms**: AI agents utilize algorithms that help them evaluate options and make decisions based on the data they receive. These algorithms can range from simple rule-based systems to complex neural networks.\n",
      "\n",
      "4. **Interaction Interfaces**: To function effectively in real-world applications, AI agents often include user-friendly interfaces, such as chatbots, voice assistants, or embedded systems, enabling seamless interaction with users.\n",
      "\n",
      "#### Applications of AI Agents\n",
      "\n",
      "The implementation of AI agents spans many domains, each showcasing unique capabilities and benefits. Here are several applications where AI agents are making a substantial impact:\n",
      "\n",
      "1. **Customer Service**: Chatbots powered by AI agents are revolutionizing customer service by providing instant responses to inquiries, handling complaints, and offering personalized recommendations. This not only enhances customer satisfaction but also reduces operational costs for businesses.\n",
      "\n",
      "2. **Healthcare**: AI agents are assisting in diagnostic processes, patient monitoring, and personalized treatment plans. They analyze medical data and support healthcare professionals in making informed decisions, ultimately improving patient outcomes.\n",
      "\n",
      "3. **Finance**: In the finance sector, AI agents analyze market trends, assess risks, and automate trading strategies. Robo-advisors provide personalized investment advice based on individual financial goals and market conditions.\n",
      "\n",
      "4. **Home Automation**: Smart home devices powered by AI agents learn user preferences and routines, allowing for automated control of lighting, heating, security systems, and more. This leads to increased convenience and energy efficiency.\n",
      "\n",
      "5. **Gaming**: AI agents are enhancing player experiences in video games. They create realistic non-player characters (NPCs) that can adapt to player actions and provide dynamic narratives, making games more engaging and immersive.\n",
      "\n",
      "6. **Transportation**: In autonomous vehicles, AI agents process vast amounts of data from sensors to navigate, avoid obstacles, and make real-time decisions on the road. This technology has the potential to significantly reduce accidents and improve transportation efficiency.\n",
      "\n",
      "#### The Future of AI Agents\n",
      "\n",
      "As AI technology continues to evolve, the capabilities and applications of AI agents are expected to expand dramatically. Some emerging trends include:\n",
      "\n",
      "- **Explainable AI**: As AI agents become more prevalent, there is a growing need for transparency in their decision-making processes. Future AI agents will be designed not only to make decisions but also to explain them in terms humans can understand.\n",
      "\n",
      "- **Enhanced Collaboration**: AI agents will increasingly work alongside humans, augmenting human capabilities in various fields. This collaboration, often referred to as \"cobotics,\" can lead to improved productivity and innovation.\n",
      "\n",
      "- **Personalization**: The future of AI agents is likely to involve more tailored experiences, where agents learn individual user preferences and provide customized interactions, whether in shopping, entertainment, or health management.\n",
      "\n",
      "#### Conclusion\n",
      "\n",
      "AI agents represent a transformative force across diverse sectors, bringing efficiency and innovation to both enterprises and individuals. As technology advances, these agents will become even more intelligent, responsive, and integrated into our daily lives. Embracing AI agents not only holds the promise of enhanced productivity and convenience but also challenges us to rethink how we interact with technology.\n",
      "\n",
      "As we unlock the potential of AI agents, we stand on the brink of a future where these intelligent systems could significantly reshape industries, enrich personal experiences, and drive unprecedented advancements in human capability. Whether you're a technologist, a business leader, or simply curious about the world of AI, it’s an exciting time to witness the evolution of AI agents and their impact on our lives.\n"
     ]
    }
   ],
   "source": [
    "for m in messages['messages']:\n",
    "    m.pretty_print()"
   ]
  },
  {
   "cell_type": "code",
   "execution_count": null,
   "metadata": {},
   "outputs": [],
   "source": []
  }
 ],
 "metadata": {
  "kernelspec": {
   "display_name": "ai-agents",
   "language": "python",
   "name": "python3"
  },
  "language_info": {
   "codemirror_mode": {
    "name": "ipython",
    "version": 3
   },
   "file_extension": ".py",
   "mimetype": "text/x-python",
   "name": "python",
   "nbconvert_exporter": "python",
   "pygments_lexer": "ipython3",
   "version": "3.12.8"
  }
 },
 "nbformat": 4,
 "nbformat_minor": 2
}
