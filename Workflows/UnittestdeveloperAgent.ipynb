{
 "cells": [
  {
   "cell_type": "code",
   "execution_count": 1,
   "metadata": {},
   "outputs": [
    {
     "data": {
      "text/plain": [
       "'\\nI/P -> Coder -> Unit Test -> SaveFile\\n'"
      ]
     },
     "execution_count": 1,
     "metadata": {},
     "output_type": "execute_result"
    }
   ],
   "source": [
    "'''\n",
    "I/P -> Coder -> Unit Test -> SaveFile\n",
    "'''"
   ]
  },
  {
   "cell_type": "code",
   "execution_count": 1,
   "metadata": {},
   "outputs": [
    {
     "data": {
      "text/plain": [
       "AIMessage(content='Hello! How can I assist you today?', additional_kwargs={}, response_metadata={'token_usage': {'completion_tokens': 10, 'prompt_tokens': 30, 'total_tokens': 40, 'completion_time': 0.05, 'prompt_time': 0.003712894, 'queue_time': 0.234892557, 'total_time': 0.053712894}, 'model_name': 'qwen-2.5-32b', 'system_fingerprint': 'fp_35f92f8282', 'finish_reason': 'stop', 'logprobs': None}, id='run-22ce19eb-ef52-4c6d-8c9c-974ce16c7efe-0', usage_metadata={'input_tokens': 30, 'output_tokens': 10, 'total_tokens': 40})"
      ]
     },
     "execution_count": 1,
     "metadata": {},
     "output_type": "execute_result"
    }
   ],
   "source": [
    "import os\n",
    "from dotenv import load_dotenv\n",
    "load_dotenv()\n",
    "\n",
    "from langchain_groq import ChatGroq\n",
    "\n",
    "\n",
    "#os.environ[\"OPENAI_API_KEY\"]=os.getenv(\"OPENAI_API_KEY\")\n",
    "os.environ[\"GROQ_API_KEY\"]=os.getenv(\"GROQ_API_KEY\")\n",
    "\n",
    "\n",
    "llm=ChatGroq(model=\"qwen-2.5-32b\")\n",
    "#llm = ChatOpenAI(model=\"gpt-4o\")\n",
    "result=llm.invoke(\"Hello\")\n",
    "result"
   ]
  },
  {
   "cell_type": "code",
   "execution_count": 8,
   "metadata": {},
   "outputs": [],
   "source": [
    "from typing_extensions import TypedDict\n",
    "from langgraph.graph import StateGraph, START, END\n",
    "from IPython.display import Image, display\n",
    "\n",
    "class State(TypedDict):\n",
    "    topic: str\n",
    "    code : str\n",
    "    unittest: str\n",
    "    savefile: str"
   ]
  },
  {
   "cell_type": "code",
   "execution_count": 3,
   "metadata": {},
   "outputs": [],
   "source": [
    "def CoderAgent(state: State):\n",
    "    \"Coder class to generate the code\"\n",
    "\n",
    "    msg = llm.invoke(\n",
    "        \"\"\"\\n<instruction>:\\n\\n\"\"\" + \\\n",
    "        f\"\"\"You are a coder tasked with writing a Python code snippet based on the given '{state['topic']}'. Your task is to create a code that fulfills the requirements of the topic and adheres to best practices in Python programming based on the following criteria: \\n\"\"\" + \\\n",
    "        \"\"\"1. **Readability**: The code easy to read and understand?\\n\"\"\" + \\\n",
    "        \"\"\"2. **Adherence to Standards**: The code should follow PEP 8 or other relevant coding standards?\\n\"\"\" + \\\n",
    "        \"\"\"3. **Error Handling**: The code should not have potential errors or exceptions that are not handled?\\n\"\"\" + \\\n",
    "        \"\"\"4. **Efficiency**: The code should be efficient in terms of performance and resource usage?\\n\"\"\" + \\\n",
    "        \"\"\"5. **Maintainability**: The code structured should be in a way that is easy to maintain and extend?\\n\"\"\" + \\\n",
    "        \"\"\"</instruction>\"\"\"\n",
    "        )\n",
    "    return {\"code\": msg.content}"
   ]
  },
  {
   "cell_type": "code",
   "execution_count": 34,
   "metadata": {},
   "outputs": [],
   "source": [
    "# Nodes\n",
    "def CoderAgent(state: State):\n",
    "    \"Coder class to generate the code\"\n",
    "\n",
    "    msg = llm.invoke(\n",
    "        \"\"\"\\n<instruction>:\\n\\n\"\"\" + \\\n",
    "        f\"\"\"You are a coder tasked with writing a Python code snippet based on the given '{state['topic']}'. Your task is to create a code that fulfills the requirements of the topic and adheres to best practices in Python programming based on the following criteria: \\n\"\"\" + \\\n",
    "        \"\"\"1. **Readability**: The code easy to read and understand?\\n\"\"\" + \\\n",
    "        \"\"\"2. **Adherence to Standards**: The code should follow PEP 8 or other relevant coding standards?\\n\"\"\" + \\\n",
    "        \"\"\"3. **Error Handling**: The code should not have potential errors or exceptions that are not handled?\\n\"\"\" + \\\n",
    "        \"\"\"4. **Efficiency**: The code should be efficient in terms of performance and resource usage?\\n\"\"\" + \\\n",
    "        \"\"\"5. **Maintainability**: The code structured should be in a way that is easy to maintain and extend?\\n\"\"\" + \\\n",
    "        \"\"\"</instruction>\"\"\"\n",
    "        )\n",
    "    return {\"code\": msg.content}\n",
    "\n",
    "def UnitTestAgent(state: State):\n",
    "    \"UnitTest class to generate the unit test\"\n",
    "    msg = llm.invoke(\n",
    "        \"\"\"\\n<instruction>:\\n\\n\"\"\" + \\\n",
    "        f\"\"\"You are a tester tasked with writing a unit test for the Python code snippet based on the given '{state['code']}'. Your task is to create a unit test that validates the correctness and functionality of the code based on the following criteria: \\n\"\"\" + \\\n",
    "        \"\"\"1. **Correctness**: The unit test should validate the correctness of the code?\\n\"\"\" + \\\n",
    "        \"\"\"2. **Coverage**: The unit test should cover all the possible scenarios and edge cases?\\n\"\"\" + \\\n",
    "        \"\"\"3. **Performance**: The unit test should not have performance issues or bottlenecks?\\n\"\"\" + \\\n",
    "        \"\"\"4. **Maintainability**: The unit test should be easy to maintain and extend?\\n\"\"\" + \\\n",
    "        \"\"\"Output: Give only Unittest cases nothing else\\n\"\"\" + \\\n",
    "        \"\"\"</instruction>\"\"\"\n",
    "        )\n",
    "    return {\"unittest\": msg.content}\n",
    "\n",
    "def SaveFileAgent(state: State):\n",
    "    \"SaveFile class to generate the code to save the file\"\n",
    "    # print(\"UNITTEST\",state['code'])\n",
    "    msg = llm.invoke(\n",
    "        \"\"\"\\n<instruction>:\\n\\n\"\"\" + \\\n",
    "        f\"\"\"You are a Python developer tasked with generating Python code to save unit tests based on the given {state['unittest']} into a file named `test_cases.py`. Please write a Python script that creates this file and writes the test cases into it. Ensure each test method is clearly named and includes relevant assertions to validate the expected behavior of the functions being tested.\\n\\n\"\"\" + \\\n",
    "        \"\"\"Provide the Python code that accomplishes this task.\\n\"\"\" + \\\n",
    "        \"\"\"</instruction>\"\"\"\n",
    "    )\n",
    "    # Extract the test cases code from the model's output\n",
    "    test_cases_code = msg.content\n",
    "    \n",
    "    # Write the test cases to a file\n",
    "    with open('test_cases.py', 'w') as file:\n",
    "        file.write(test_cases_code)\n",
    "\n",
    "    # Check if the file was created\n",
    "    if os.path.exists('test_cases.py'):\n",
    "        print(\"File created successfully.\")\n",
    "    else:\n",
    "        print(\"Failed to create the file.\")\n",
    "        \n",
    "    return {\"savefile\": msg.content}\n",
    "    "
   ]
  },
  {
   "cell_type": "code",
   "execution_count": 35,
   "metadata": {},
   "outputs": [],
   "source": [
    "# def SaveFileAgent(state: State):\n",
    "#     \"SaveFile class to generate the code to save the file\"\n",
    "#     print(\"UNITTEST\",state['code'])\n",
    "#     msg = llm.invoke(\n",
    "#         \"\"\"\\n<instruction>:\\n\\n\"\"\" + \\\n",
    "#         f\"\"\"You are a python developer tasked to save unit test based on the given {state['code']}. Your task is to create a code that saves the output of the code and unit test to a file based on the following criteria: \\n\"\"\" + \\\n",
    "#         \"\"\"1. **File Format**: The output should be saved in a readable format such as text or JSON or python?\\n\"\"\" + \\\n",
    "#         \"\"\"2. **Error Handling**: The code should handle file I/O errors and exceptions?\\n\"\"\" + \\\n",
    "#         \"\"\"3. **Efficiency**: The code should be efficient in terms of performance and resource usage?\\n\"\"\" + \\\n",
    "#         \"\"\"4. **Maintainability**: The code should be easy to maintain and extend?\\n\"\"\" + \\\n",
    "#         \"\"\"Output: Save unittest cases to a test.py file nothing else\\n\"\"\" + \\\n",
    "#         \"\"\"</instruction>\"\"\"\n",
    "#         )\n",
    "#     return {\"savefile\": msg.content}"
   ]
  },
  {
   "cell_type": "code",
   "execution_count": 36,
   "metadata": {},
   "outputs": [
    {
     "data": {
      "image/png": "[encoded data removed]",
      "text/plain": [
       "<IPython.core.display.Image object>"
      ]
     },
     "metadata": {},
     "output_type": "display_data"
    }
   ],
   "source": [
    "# Build Workflow\n",
    "workflow = StateGraph(State)\n",
    "\n",
    "# Add Nodes\n",
    "workflow.add_node(\"CoderAgent\", CoderAgent)\n",
    "workflow.add_node(\"UnitTestAgent\", UnitTestAgent)\n",
    "workflow.add_node(\"SaveFileAgent\", SaveFileAgent)\n",
    "\n",
    "# Add Edges\n",
    "workflow.add_edge(START, \"CoderAgent\")\n",
    "workflow.add_edge(\"CoderAgent\", \"UnitTestAgent\")\n",
    "workflow.add_edge(\"UnitTestAgent\", \"SaveFileAgent\")\n",
    "workflow.add_edge(\"SaveFileAgent\", END)\n",
    "\n",
    "review_graph=workflow.compile()\n",
    "\n",
    "# Show\n",
    "display(Image(review_graph.get_graph().draw_mermaid_png()))\n"
   ]
  },
  {
   "cell_type": "code",
   "execution_count": 37,
   "metadata": {},
   "outputs": [
    {
     "name": "stdout",
     "output_type": "stream",
     "text": [
      "File created successfully.\n"
     ]
    }
   ],
   "source": [
    "# Invoke\n",
    "state = review_graph.invoke({\"topic\": \"write a code to add two numbers\"})"
   ]
  },
  {
   "cell_type": "code",
   "execution_count": 29,
   "metadata": {},
   "outputs": [
    {
     "data": {
      "text/plain": [
       "{'topic': 'write a code to add two numbers',\n",
       " 'code': 'Based on the instruction, here is a Python code snippet that adds two numbers, fulfilling the criteria of readability, adherence to standards, error handling, efficiency, and maintainability:\\n\\n```python\\ndef add_two_numbers(a: float, b: float) -> float:\\n    \"\"\"\\n    Add two numbers and return the result.\\n\\n    Parameters:\\n    a (float): The first number to add.\\n    b (float): The second number to add.\\n\\n    Returns:\\n    float: The sum of the two numbers.\\n    \"\"\"\\n    if not (isinstance(a, (int, float)) and isinstance(b, (int, float))):\\n        raise TypeError(\"Both inputs must be numbers (either int or float).\")\\n    \\n    return a + b\\n\\n# Example usage:\\nif __name__ == \"__main__\":\\n    try:\\n        number1 = float(input(\"Enter the first number: \"))\\n        number2 = float(input(\"Enter the second number: \"))\\n        result = add_two_numbers(number1, number2)\\n        print(f\"The sum of {number1} and {number2} is: {result}\")\\n    except ValueError as e:\\n        print(\"Error: Please enter valid numbers.\")\\n```\\n\\n### Explanation of the Code:\\n- **Readability**: The function `add_two_numbers` is simple and well-documented with a docstring explaining the parameters and return type. The variable names are clear and descriptive.\\n- **Adherence to Standards**: The function and variable names follow the PEP 8 guidelines. The use of type hints for function parameters and return type also enhances readability and maintainability.\\n- **Error Handling**: The function checks if the inputs are of the correct type (int or float) and raises an error if not. The `try-except` block in the example usage handles potential `ValueError` if the input cannot be converted to a float.\\n- **Efficiency**: The function performs a simple addition, which is efficient both in terms of performance and resource usage.\\n- **Maintainability**: The code is well-structured, making it easy to modify or extend later if needed, e.g., by adding more operations or handling different types of inputs.',\n",
       " 'unittest': '```python\\nimport unittest\\n\\nclass TestAddTwoNumbers(unittest.TestCase):\\n    def test_add_two_numbers(self):\\n        # Test with positive numbers\\n        self.assertEqual(add_two_numbers(10, 20), 30)\\n        # Test with negative numbers\\n        self.assertEqual(add_two_numbers(-10, -20), -30)\\n        # Test with a mix of positive and negative numbers\\n        self.assertEqual(add_two_numbers(10, -20), -10)\\n        # Test with float numbers\\n        self.assertAlmostEqual(add_two_numbers(10.5, 20.3), 30.8)\\n        # Test with zero\\n        self.assertEqual(add_two_numbers(0, 0), 0)\\n        self.assertEqual(add_two_numbers(10, 0), 10)\\n        self.assertEqual(add_two_numbers(-10, 0), -10)\\n        # Test type error with string input\\n        with self.assertRaises(TypeError):\\n            add_two_numbers(\"10\", \"20\")\\n        # Test type error with one number and one string\\n        with self.assertRaises(TypeError):\\n            add_two_numbers(10, \"20\")\\n        # Test type error with boolean input\\n        with self.assertRaises(TypeError):\\n            add_two_numbers(True, False)\\n\\nif __name__ == \\'__main__\\':\\n    unittest.main()\\n```',\n",
       " 'savefile': 'To accomplish the task of generating a Python file named `test_cases.py` with the given unit tests, you can use the following Python script. This script will create the file and write the specified content into it.\\n\\n```python\\n# Python script to create and write unit tests into a file named test_cases.py\\n\\ndef generate_test_file():\\n    # Contents of the test file\\n    test_content = \"\"\"import unittest\\n\\nclass TestAddTwoNumbers(unittest.TestCase):\\n    def test_add_two_numbers(self):\\n        # Test with positive numbers\\n        self.assertEqual(add_two_numbers(10, 20), 30)\\n        # Test with negative numbers\\n        self.assertEqual(add_two_numbers(-10, -20), -30)\\n        # Test with a mix of positive and negative numbers\\n        self.assertEqual(add_two_numbers(10, -20), -10)\\n        # Test with float numbers\\n        self.assertAlmostEqual(add_two_numbers(10.5, 20.3), 30.8)\\n        # Test with zero\\n        self.assertEqual(add_two_numbers(0, 0), 0)\\n        self.assertEqual(add_two_numbers(10, 0), 10)\\n        self.assertEqual(add_two_numbers(-10, 0), -10)\\n        # Test type error with string input\\n        with self.assertRaises(TypeError):\\n            add_two_numbers(\"10\", \"20\")\\n        # Test type error with one number and one string\\n        with self.assertRaises(TypeError):\\n            add_two_numbers(10, \"20\")\\n        # Test type error with boolean input\\n        with self.assertRaises(TypeError):\\n            add_two_numbers(True, False)\\n\\nif __name__ == \\'__main__\\':\\n    unittest.main()\\n\"\"\"\\n\\n    # Writing the content to the file\\n    with open(\\'test_cases.py\\', \\'w\\') as file:\\n        file.write(test_content)\\n\\n    print(\"The test file has been successfully created and written.\")\\n\\n# Call the function to generate the test file\\ngenerate_test_file()\\n```\\n\\nThis script defines a function `generate_test_file` which creates the file `test_cases.py` in the current directory and writes the provided test cases into it. When you run this script, it will generate the file as specified.'}"
      ]
     },
     "execution_count": 29,
     "metadata": {},
     "output_type": "execute_result"
    }
   ],
   "source": [
    "state"
   ]
  },
  {
   "cell_type": "code",
   "execution_count": null,
   "metadata": {},
   "outputs": [],
   "source": []
  }
 ],
 "metadata": {
  "kernelspec": {
   "display_name": "ai-agents",
   "language": "python",
   "name": "python3"
  },
  "language_info": {
   "codemirror_mode": {
    "name": "ipython",
    "version": 3
   },
   "file_extension": ".py",
   "mimetype": "text/x-python",
   "name": "python",
   "nbconvert_exporter": "python",
   "pygments_lexer": "ipython3",
   "version": "3.12.8"
  }
 },
 "nbformat": 4,
 "nbformat_minor": 2
}
