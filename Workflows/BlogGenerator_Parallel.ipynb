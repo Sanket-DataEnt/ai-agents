{
 "cells": [
  {
   "cell_type": "code",
   "execution_count": 2,
   "metadata": {},
   "outputs": [
    {
     "data": {
      "text/plain": [
       "AIMessage(content='Hello! How can I assist you today?', additional_kwargs={}, response_metadata={'token_usage': {'completion_tokens': 10, 'prompt_tokens': 30, 'total_tokens': 40, 'completion_time': 0.05, 'prompt_time': 0.003765854, 'queue_time': 0.236302042, 'total_time': 0.053765854}, 'model_name': 'qwen-2.5-32b', 'system_fingerprint': 'fp_35f92f8282', 'finish_reason': 'stop', 'logprobs': None}, id='run-55fa21e7-d9f7-468f-bc91-441441983ae0-0', usage_metadata={'input_tokens': 30, 'output_tokens': 10, 'total_tokens': 40})"
      ]
     },
     "execution_count": 2,
     "metadata": {},
     "output_type": "execute_result"
    }
   ],
   "source": [
    "import os\n",
    "from dotenv import load_dotenv\n",
    "load_dotenv()\n",
    "\n",
    "from langchain_groq import ChatGroq\n",
    "\n",
    "\n",
    "#os.environ[\"OPENAI_API_KEY\"]=os.getenv(\"OPENAI_API_KEY\")\n",
    "os.environ[\"GROQ_API_KEY\"]=os.getenv(\"GROQ_API_KEY\")\n",
    "\n",
    "\n",
    "llm=ChatGroq(model=\"qwen-2.5-32b\")\n",
    "#llm = ChatOpenAI(model=\"gpt-4o\")\n",
    "result=llm.invoke(\"Hello\")\n",
    "result"
   ]
  },
  {
   "cell_type": "code",
   "execution_count": 4,
   "metadata": {},
   "outputs": [],
   "source": [
    "from typing_extensions import TypedDict\n",
    "from langgraph.graph import StateGraph, START, END\n",
    "from IPython.display import Image, display\n",
    "\n",
    "class State(TypedDict):\n",
    "    topic: str\n",
    "    title: str\n",
    "    blog: str\n",
    "    finalblog: str\n"
   ]
  },
  {
   "cell_type": "code",
   "execution_count": 7,
   "metadata": {},
   "outputs": [],
   "source": [
    "# Define Nodes\n",
    "\n",
    "def titleagent(state: State):\n",
    "    \"\"\"LLM call to generate title\"\"\"\n",
    "    msg=llm.invoke(\n",
    "        \"<instruction>\"\n",
    "        f\"You are an intelligent blog title generator. Your task is to create catchy, engaging,and relevant single title based on the {state['topic']} provided to you \\n\" + \\\n",
    "        \"Ensure that the titles are concise, informative, and tailored to attract readers' attention. Aim for creativity while maintaining clarity and relevance to the topic at hand.\"\n",
    "        \"</instruction>\"\n",
    "        )\n",
    "    return {\"title\": msg.content}\n",
    "\n",
    "def blogagent(state: State):\n",
    "    \"\"\"LLM call to generate blog\"\"\"\n",
    "    blog=llm.invoke(\n",
    "        \"<instruction>\"\n",
    "        f\"You are an intelligent blog content generator. Your task is to create a blog content based on the {state['topic']} provided to you \\n\" + \\\n",
    "        \"Ensure that the blog is informative, engaging, and tailored to attract readers' attention. Aim for clarity, depth, and engagement while maintaining a high level of quality and accuracy.\"\n",
    "        \"</instruction>\"\n",
    "        )\n",
    "    return {\"blog\": blog.content}\n",
    "\n",
    "def finalblogagent(state: State):\n",
    "    \"\"\"Combine the title and blog into a single output\"\"\"\n",
    "\n",
    "    combined = f\"Here's a title and blog about {state['topic']}!\\n\\n\"\n",
    "    combined += f\"Title:\\n{state['title']}\\n\\n\"\n",
    "    combined += f\"Blog:\\n{state['blog']}\\n\\n\"\n",
    "    return {\"finalblog\": combined}"
   ]
  },
  {
   "cell_type": "code",
   "execution_count": 8,
   "metadata": {},
   "outputs": [
    {
     "data": {
      "image/png": "[encoded data removed]",
      "text/plain": [
       "<IPython.core.display.Image object>"
      ]
     },
     "metadata": {},
     "output_type": "display_data"
    }
   ],
   "source": [
    "# Build workflow\n",
    "parallel_builder = StateGraph(State)\n",
    "\n",
    "# add nodes\n",
    "parallel_builder.add_node(\"titleagent\", titleagent)\n",
    "parallel_builder.add_node(\"blogagent\", blogagent)\n",
    "parallel_builder.add_node(\"finalblogagent\", finalblogagent)\n",
    "\n",
    "# add edges\n",
    "parallel_builder.add_edge(START, \"titleagent\")\n",
    "parallel_builder.add_edge(START, \"blogagent\")\n",
    "parallel_builder.add_edge(\"titleagent\", \"finalblogagent\")\n",
    "parallel_builder.add_edge(\"blogagent\", \"finalblogagent\")\n",
    "parallel_builder.add_edge(\"finalblogagent\", END)\n",
    "\n",
    "parallel_workflow = parallel_builder.compile()\n",
    "\n",
    "# Show workflow\n",
    "display(Image(parallel_workflow.get_graph().draw_mermaid_png()))"
   ]
  },
  {
   "cell_type": "code",
   "execution_count": 10,
   "metadata": {},
   "outputs": [
    {
     "name": "stdout",
     "output_type": "stream",
     "text": [
      "Here's a title and blog about Evaluation Metrics for LLMs!\n",
      "\n",
      "Title:\n",
      "\"Unlocking the Secrets of LLM Success: A Deep Dive into Essential Evaluation Metrics\"\n",
      "\n",
      "Blog:\n",
      "### Evaluating the Efficacy of Large Language Models: A Comprehensive Guide\n",
      "\n",
      "In the rapidly evolving landscape of artificial intelligence and machine learning, large language models (LLMs) have become central to advancing natural language processing capabilities. These models, such as BERT, GPT, and T5, have revolutionized tasks like text generation, translation, and sentiment analysis, among others. However, as technology progresses, so does the need for robust evaluation metrics to assess the performance of these models accurately. In this blog, we delve into the critical evaluation metrics used to gauge the efficacy of LLMs, providing insights that are both informative and engaging.\n",
      "\n",
      "#### Precision and Recall: The Basics\n",
      "\n",
      "Before diving into the more sophisticated metrics, it's essential to understand the foundational metrics of precision and recall. These terms, often borrowed from information retrieval, help us understand the model's accuracy in predicting relevant responses or outcomes.\n",
      "\n",
      "- **Precision** measures the proportion of true positive results (correctly identified) among all positive predictions made by the model.\n",
      "- **Recall** assesses the model's ability to find all the relevant cases within a dataset. It measures the percentage of actual positives that were correctly identified.\n",
      "\n",
      "In the context of language models, precision and recall can be adapted to evaluate the model's performance in tasks such as topic classification or named entity recognition.\n",
      "\n",
      "#### F1 Score: Balancing Act\n",
      "\n",
      "While precision and recall are crucial, they often need to be balanced against each other. This is where the F1 score comes into play. The F1 score is the harmonic mean of precision and recall, providing a single score that balances the two metrics. For a model to be efficient, both precision and recall should be maximized, making F1 a powerful tool for understanding a model's overall performance.\n",
      "\n",
      "#### BLEU: The Benchmark for Translation\n",
      "\n",
      "BLEU (Bilingual Evaluation Understudy) is a set of metrics designed to evaluate the quality of text generated by machine translation systems. BLEU scores range from 0 to 1, with 1 being the highest possible score, indicating a perfect match between the machine-generated text and the human-generated reference text. BLEU is particularly useful in evaluating the fluency and adequacy of translations, making it a standard metric in the field of language modeling.\n",
      "\n",
      "#### ROUGE: Evaluating Summarization\n",
      "\n",
      "ROUGE (Recall-Oriented Understudy for Gisting Evaluation) is another suite of metrics used to evaluate the quality of automatic summarization systems. Unlike BLEU, which focuses on the overlap between the generated text and a reference, ROUGE measures recall, meaning it assesses how many of the reference words are present in the generated summary. ROUGE is particularly significant in understanding how well a model can summarize a text while retaining its essence.\n",
      "\n",
      "#### Perplexity: Understanding Uncertainty\n",
      "\n",
      "Perplexity is a statistical measure used to evaluate how well a probability distribution or probability model predicts a sample. In the context of language models, perplexity measures how well the model can predict a sequence of words. Lower perplexity scores indicate better performance, suggesting that the model has a strong understanding of the language used in the corpus.\n",
      "\n",
      "#### Conclusion\n",
      "\n",
      "Choosing the right evaluation metrics is crucial in assessing the effectiveness of large language models, as each metric offers a unique perspective on the model’s performance. From the balanced approach of F1 to the domain-specific metrics like BLEU for translation and ROUGE for summarization, the right mix of metrics can provide a comprehensive overview of an LLM’s capabilities.\n",
      "\n",
      "Understanding these metrics not only helps in technical evaluations but also enriches our approach to developing and improving these sophisticated models. The continuous evolution of LLMs demands a meticulous evaluation strategy, and by leveraging these metrics, we can ensure that these models continue to advance and meet the demands of a data-driven world.\n",
      "\n",
      "As the field of AI and machine learning continues to evolve, the role of evaluation metrics becomes increasingly important. By staying informed and engaged with these metrics, researchers, developers, and enthusiasts can contribute to the advancement of large language models and their applications in various industries.\n",
      "\n",
      "\n"
     ]
    }
   ],
   "source": [
    "# Invoke\n",
    "state = parallel_workflow.invoke({\"topic\": \"Evaluation Metrics for LLMs\"})\n",
    "print(state[\"finalblog\"])"
   ]
  },
  {
   "cell_type": "code",
   "execution_count": null,
   "metadata": {},
   "outputs": [],
   "source": []
  }
 ],
 "metadata": {
  "kernelspec": {
   "display_name": "ai-agents",
   "language": "python",
   "name": "python3"
  },
  "language_info": {
   "codemirror_mode": {
    "name": "ipython",
    "version": 3
   },
   "file_extension": ".py",
   "mimetype": "text/x-python",
   "name": "python",
   "nbconvert_exporter": "python",
   "pygments_lexer": "ipython3",
   "version": "3.12.8"
  }
 },
 "nbformat": 4,
 "nbformat_minor": 2
}
