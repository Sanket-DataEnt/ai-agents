{
 "cells": [
  {
   "cell_type": "code",
   "execution_count": null,
   "metadata": {},
   "outputs": [],
   "source": [
    "'''\n",
    "I/P -> Coder -> <- Peer Reviewer -> Release Manager -> END\n",
    "Coder <- Release Manager\n",
    "Peer Reviewer -> Coder\n",
    "Peer Reviewer -> END\n",
    "'''"
   ]
  },
  {
   "cell_type": "code",
   "execution_count": 1,
   "metadata": {},
   "outputs": [
    {
     "data": {
      "text/plain": [
       "AIMessage(content='Hello! How can I assist you today?', additional_kwargs={}, response_metadata={'token_usage': {'completion_tokens': 10, 'prompt_tokens': 30, 'total_tokens': 40, 'completion_time': 0.05, 'prompt_time': 0.00371177, 'queue_time': 0.236445759, 'total_time': 0.05371177}, 'model_name': 'qwen-2.5-32b', 'system_fingerprint': 'fp_35f92f8282', 'finish_reason': 'stop', 'logprobs': None}, id='run-3bf601af-8a57-4d05-b9ee-eb3db20ee67a-0', usage_metadata={'input_tokens': 30, 'output_tokens': 10, 'total_tokens': 40})"
      ]
     },
     "execution_count": 1,
     "metadata": {},
     "output_type": "execute_result"
    }
   ],
   "source": [
    "import os\n",
    "from dotenv import load_dotenv\n",
    "load_dotenv()\n",
    "\n",
    "from langchain_groq import ChatGroq\n",
    "\n",
    "\n",
    "#os.environ[\"OPENAI_API_KEY\"]=os.getenv(\"OPENAI_API_KEY\")\n",
    "os.environ[\"GROQ_API_KEY\"]=os.getenv(\"GROQ_API_KEY\")\n",
    "\n",
    "\n",
    "llm=ChatGroq(model=\"qwen-2.5-32b\")\n",
    "#llm = ChatOpenAI(model=\"gpt-4o\")\n",
    "result=llm.invoke(\"Hello\")\n",
    "result"
   ]
  },
  {
   "cell_type": "code",
   "execution_count": 46,
   "metadata": {},
   "outputs": [],
   "source": [
    "from typing_extensions import TypedDict\n",
    "from langgraph.graph import StateGraph, START, END\n",
    "from IPython.display import Image, display\n",
    "# from pydantic import BaseModel\n",
    "\n",
    "\n",
    "# Graph state\n",
    "class State(TypedDict):\n",
    "    topic: str\n",
    "    code : str\n",
    "    reviewer : str"
   ]
  },
  {
   "cell_type": "code",
   "execution_count": 47,
   "metadata": {},
   "outputs": [],
   "source": [
    "# Nodes\n",
    "def CoderAgent(state: State):\n",
    "    \"Coder class to generate the code\"\n",
    "\n",
    "    msg = llm.invoke(\n",
    "        \"\"\"\\n<instruction>:\\n\\n\"\"\" + \\\n",
    "        f\"\"\"You are a coder tasked with writing a Python code snippet based on the given '{state['topic']}'. Your task is to create a code that fulfills the requirements of the topic and adheres to best practices in Python programming based on the following criteria: \\n\"\"\" + \\\n",
    "        \"\"\"1. **Readability**: The code easy to read and understand?\\n\"\"\" + \\\n",
    "        \"\"\"2. **Adherence to Standards**: The code should follow PEP 8 or other relevant coding standards?\\n\"\"\" + \\\n",
    "        \"\"\"3. **Error Handling**: The code should not have potential errors or exceptions that are not handled?\\n\"\"\" + \\\n",
    "        \"\"\"4. **Efficiency**: The code should be efficient in terms of performance and resource usage?\\n\"\"\" + \\\n",
    "        \"\"\"5. **Maintainability**: The code structured should be in a way that is easy to maintain and extend?\\n\"\"\" + \\\n",
    "        \"\"\"</instruction>\"\"\"\n",
    "        )\n",
    "    return {\"code\": msg.content}\n",
    "\n",
    "def PeerReviewer(state: State):\n",
    "    \"PeerReviewer class to review the code\"\n",
    "\n",
    "    msg = llm.invoke(f\"Review the code for {state['code']}\")\n",
    "    return {\"reviewer\": msg.content}    \n",
    "\n",
    "def ReviewerCondition(state: State):\n",
    "    \"Reviewer class to review the code\"\n",
    "    msg = llm.invoke(\n",
    "        \"\"\"\\n<instruction>:\\n\\n\"\"\" + \\\n",
    "        f\"\"\"You are a Peer Review Agent designed to evaluate Python code for '{state['code']}' for quality and adherence to best practices. Your task is to analyze the provided code snippet and assess its quality based on the following criteria:\\n\"\"\" + \\\n",
    "        \n",
    "        \"\"\"1. **Readability**: Is the code easy to read and understand?\\n\"\"\" + \\\n",
    "        \"\"\"2. **Adherence to Standards**: Does the code follow PEP 8 or other relevant coding standards?\\n\"\"\" + \\\n",
    "        \"\"\"3. **Error Handling**: Are there any potential errors or exceptions that are not handled?\\n\"\"\" + \\\n",
    "        \"\"\"4. **Efficiency**: Is the code efficient in terms of performance and resource usage?\\n\"\"\" + \\\n",
    "        \"\"\"5. **Maintainability**: Is the code structured in a way that is easy to maintain and extend?\\n\"\"\" + \\\n",
    "        \"\"\"\\nAfter reviewing the code, return only 'pass' if it meets the quality standards and 'fail' if it does not\"\"\"\n",
    "        \"\"\"output format : Pass/Fail\"\"\"\n",
    "        \"\"\"</instruction>\"\"\"\n",
    "            )\n",
    "    return msg.content\n",
    "\n",
    "def ReleaseManager(state: State):\n",
    "    \"ReleaseManager class to release the code\"\n",
    "\n",
    "    msg = llm.invoke(f\"Release the code for {state['reviewer']}\")\n",
    "    return {\"release_manager\": msg.content}\n"
   ]
  },
  {
   "cell_type": "code",
   "execution_count": 48,
   "metadata": {},
   "outputs": [
    {
     "data": {
      "image/png": "[encoded data removed]",
      "text/plain": [
       "<IPython.core.display.Image object>"
      ]
     },
     "metadata": {},
     "output_type": "display_data"
    }
   ],
   "source": [
    "# Build Workflow\n",
    "workflow = StateGraph(State)\n",
    "\n",
    "# Add nodes\n",
    "workflow.add_node(\"CoderAgent\", CoderAgent)\n",
    "workflow.add_node(\"PeerReviewer\", PeerReviewer)\n",
    "workflow.add_node(\"ReleaseManager\", ReleaseManager)\n",
    "\n",
    "# # Add edges to connect nodes\n",
    "workflow.add_edge(START, \"CoderAgent\")\n",
    "workflow.add_edge(\"CoderAgent\", \"PeerReviewer\")\n",
    "workflow.add_conditional_edges(\"PeerReviewer\", ReviewerCondition, {\"Fail\": \"CoderAgent\", \"Pass\": \"ReleaseManager\"})\n",
    "workflow.add_edge(\"ReleaseManager\", END)\n",
    "\n",
    "\n",
    "# workflow.add_edge(\"coder\", \"peer_reviewer\")\n",
    "review_graph=workflow.compile()\n",
    "\n",
    "# Show\n",
    "display(Image(review_graph.get_graph().draw_mermaid_png()))"
   ]
  },
  {
   "cell_type": "code",
   "execution_count": 49,
   "metadata": {},
   "outputs": [],
   "source": [
    "# Invoke\n",
    "state = review_graph.invoke({\"topic\": \"write a code to add two numbers\"})"
   ]
  },
  {
   "cell_type": "code",
   "execution_count": 50,
   "metadata": {},
   "outputs": [
    {
     "data": {
      "text/plain": [
       "{'topic': 'write a code to add two numbers',\n",
       " 'code': 'Based on the instruction provided, here is a Python code snippet that adds two numbers while adhering to best practices and fulfilling the given criteria:\\n\\n```python\\ndef add_numbers(a, b):\\n    \"\"\"\\n    Add two numbers and return the result.\\n    \\n    :param a: First number to add.\\n    :param b: Second number to add.\\n    :return: The sum of the two numbers.\\n    :raises TypeError: If either of the inputs is not a number.\\n    \"\"\"\\n    if not (isinstance(a, (int, float)) and isinstance(b, (int, float))):\\n        raise TypeError(\"Both inputs must be numbers (int or float).\")\\n    \\n    return a + b\\n\\n# Example usage:\\nif __name__ == \"__main__\":\\n    num1 = 5\\n    num2 = 3.2\\n    result = add_numbers(num1, num2)\\n    print(f\"The sum of {num1} and {num2} is {result}.\")\\n```\\n\\n### Explanation\\n\\n1. **Readability**: The function is named `add_numbers` which is descriptive of its purpose. The parameters `a` and `b` are straightforward, and the docstring provides a clear description of the function\\'s behavior, parameters, return value, and possible exceptions. \\n\\n2. **Adherence to Standards**: The code follows PEP 8 standards, which include using 4 spaces for indentation and proper spacing around operators and arguments.\\n\\n3. **Error Handling**: The function includes a check to ensure that both inputs are either integers or floats. If not, it raises a `TypeError` with a clear message. This prevents the function from failing silently with unexpected input types.\\n\\n4. **Efficiency**: The addition operation itself is inherently efficient, and the type check is also efficient as it only checks the type of the provided inputs before proceeding with the addition.\\n\\n5. **Maintainability**: The function is simple and self-contained, making it easy to maintain. If in the future, more complex validation or additional operations are needed, it would be straightforward to modify the function. The use of a main guard (`if __name__ == \"__main__\":`) also ensures that the example usage does not run when the module is imported elsewhere, which is a good practice for maintainability.',\n",
       " 'reviewer': 'The provided Python code snippet is well-structured and follows best practices in Python programming. Here’s a detailed review of the code:\\n\\n### Review\\n\\n1. **Function Definition and Docstring**:\\n   - The function `add_numbers` is well-named and clearly describes its purpose.\\n   - The docstring is detailed and follows the standard format, explaining the parameters, return type, and any exceptions that the function might raise. This is excellent for documentation and future maintenance.\\n\\n2. **Type Checking and Exception Handling**:\\n   - The function checks if both inputs are of type `int` or `float` using `isinstance`. This is a good practice to ensure that the function only processes numeric data, preventing type errors.\\n   - Raising a `TypeError` with a descriptive message ensures that users of this function are aware of the data type requirements and can handle the exception appropriately.\\n\\n3. **Code Efficiency**:\\n   - The addition operation itself is straightforward and efficient.\\n   - The type check is also efficient as it only involves a simple type check before the operation.\\n\\n4. **Example Usage**:\\n   - The example usage is wrapped in a `if __name__ == \"__main__\":` block. This is a best practice as it allows the script to be used as a standalone program or imported as a module without executing the example code.\\n\\n5. **PEP 8 Compliance**:\\n   - The code adheres to PEP 8 style guidelines, which enhances readability and maintainability. Proper spacing, indentation, and naming conventions are observed.\\n\\n6. **Maintainability**:\\n   - The function is self-contained and modular, which makes it easy to understand and modify. The example usage provided gives a clear indication of how to use the function, which is helpful for other developers.\\n\\n### Suggestions for Improvement\\n- **Type Hinting**: To further improve type safety and readability, consider adding type hints to the parameters and return type of the function. This can be particularly useful for others reading the code. Here’s how you can add them:\\n  ```python\\n  def add_numbers(a: float, b: float) -> float:\\n      ...\\n  ```\\n  Note: Python\\'s dynamic typing allows for both `int` and `float` as inputs, but type hints can specify the expected type.\\n\\n- **Docstring Format**: Consider using Google-style or NumPy-style docstrings if you are planning to generate documentation from the code, as these formats are more structured and can be easily processed by documentation tools.\\n\\n- **Flexible Input Types**: The current implementation raises an error if the types are not `int` or `float`. Depending on the context, you might want to support other numeric types like `complex` or even allow automatic type conversions from strings (e.g., `\"123\"` to `123`) if these are common use cases.\\n\\nOverall, the code is well-written and meets the requirements effectively. These additional considerations can further enhance its usability and maintainability.'}"
      ]
     },
     "execution_count": 50,
     "metadata": {},
     "output_type": "execute_result"
    }
   ],
   "source": [
    "state"
   ]
  },
  {
   "cell_type": "code",
   "execution_count": null,
   "metadata": {},
   "outputs": [],
   "source": []
  }
 ],
 "metadata": {
  "kernelspec": {
   "display_name": "ai-agents",
   "language": "python",
   "name": "python3"
  },
  "language_info": {
   "codemirror_mode": {
    "name": "ipython",
    "version": 3
   },
   "file_extension": ".py",
   "mimetype": "text/x-python",
   "name": "python",
   "nbconvert_exporter": "python",
   "pygments_lexer": "ipython3",
   "version": "3.12.8"
  }
 },
 "nbformat": 4,
 "nbformat_minor": 2
}
